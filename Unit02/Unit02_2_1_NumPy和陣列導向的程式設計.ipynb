{
  "cells": [
    {
      "cell_type": "markdown",
      "metadata": {
        "id": "PRvDAgg80Ike"
      },
      "source": [
        "# NumPy 和陣列導向的程式設計\n",
        "\n",
        "`NumPy` 可以說是 Python 中最最標準的科學計算、數據分析套件。也因為 `NumPy` 的出現, 讓 Python 有了非常好的數據分析基礎, 一直到現在成為數據分析覇主。"
      ]
    },
    {
      "cell_type": "code",
      "execution_count": null,
      "metadata": {
        "id": "LbWLf_hZ0Iki"
      },
      "outputs": [],
      "source": [
        "import numpy as np"
      ]
    },
    {
      "cell_type": "markdown",
      "metadata": {
        "id": "WUr09eZ_0Iki"
      },
      "source": [
        "## 1. 陣列導向 101\n",
        "\n",
        "科學計算一個很核心的概念叫 \"array oriented\" 的寫法。Array 是 `numpy` 標準的資料結構, 和 list 很像, 但就差了那麼一點點。而這一點點讓我們在計算上是無比的方便。"
      ]
    },
    {
      "cell_type": "markdown",
      "metadata": {
        "id": "qDE0ivvQ0Ikj"
      },
      "source": [
        "### 【暖身】 計算平均\n",
        "\n",
        "某位同學期中考各科成績如下, 請幫他計算成績。\n",
        "\n",
        "    grades = [77, 85, 56, 90, 66]\n",
        "    \n",
        "請計算平均。"
      ]
    },
    {
      "cell_type": "code",
      "execution_count": null,
      "metadata": {
        "id": "yanGLqPz0Ikj",
        "outputId": "6276dff4-a96e-41a9-afd0-8d00fe039e8b",
        "colab": {
          "base_uri": "https://localhost:8080/"
        }
      },
      "outputs": [
        {
          "output_type": "stream",
          "name": "stdout",
          "text": [
            "<class 'list'>\n",
            "average:   74.80,  sum=374\n"
          ]
        }
      ],
      "source": [
        "# [方式1]: List\n",
        "sum = 0\n",
        "grades = [77, 85, 56, 90, 66]\n",
        "print(type(grades))\n",
        "for i in grades:\n",
        "  sum += i\n",
        "# print(\"average:{}\", sum/len(grades))\n",
        "print(\"average:{0:8.2f},  sum={1}\".format(sum/len(grades), sum))  #到小數點第二位"
      ]
    },
    {
      "cell_type": "code",
      "source": [
        "# [方式2]: array\n",
        "grades = [77, 85, 56, 90, 66]\n",
        "arr = np.array(grades)\n",
        "print(type(arr))\n",
        "print(\"average:{}\", arr.mean())"
      ],
      "metadata": {
        "colab": {
          "base_uri": "https://localhost:8080/"
        },
        "id": "hmwiquAuMkiD",
        "outputId": "3694e443-9d94-4735-e242-b7e7e6369230"
      },
      "execution_count": null,
      "outputs": [
        {
          "output_type": "stream",
          "name": "stdout",
          "text": [
            "<class 'numpy.ndarray'>\n",
            "average:{} 74.8\n"
          ]
        }
      ]
    },
    {
      "cell_type": "markdown",
      "metadata": {
        "id": "0i03XqAp0Ikk"
      },
      "source": [
        "### 【示範】陣列導向"
      ]
    },
    {
      "cell_type": "markdown",
      "metadata": {
        "id": "5tQNg_QG0Ikl"
      },
      "source": [
        "最大值"
      ]
    },
    {
      "cell_type": "code",
      "execution_count": null,
      "metadata": {
        "id": "PzmO0Oi40Ikl",
        "outputId": "3ed9cdbf-d9b1-4fe8-ddfa-e1e297cdb546",
        "colab": {
          "base_uri": "https://localhost:8080/"
        }
      },
      "outputs": [
        {
          "output_type": "execute_result",
          "data": {
            "text/plain": [
              "90"
            ]
          },
          "metadata": {},
          "execution_count": 26
        }
      ],
      "source": [
        "arr.max()\n",
        "# arr[np.argmax(arr)] # argmax():找出最大值的索引位置\n",
        "# np.max(arr)"
      ]
    },
    {
      "cell_type": "markdown",
      "metadata": {
        "id": "YzVyfRa30Ikl"
      },
      "source": [
        "標準差"
      ]
    },
    {
      "cell_type": "code",
      "execution_count": null,
      "metadata": {
        "id": "tflttvQ10Ikl",
        "outputId": "b962f723-80ae-4966-a74a-f7a04fe8edb5",
        "colab": {
          "base_uri": "https://localhost:8080/"
        }
      },
      "outputs": [
        {
          "output_type": "execute_result",
          "data": {
            "text/plain": [
              "12.416118556135006"
            ]
          },
          "metadata": {},
          "execution_count": 25
        }
      ],
      "source": [
        "arr.std()\n",
        "# np.std(arr)"
      ]
    },
    {
      "cell_type": "markdown",
      "metadata": {
        "id": "ldlsySzd0Ikm"
      },
      "source": [
        "### 【暖身】 換算匯率\n",
        "\n",
        "假設今天我想查查號稱 Pentax 三公主的 31mm, 43mm, 77mm 三隻 limited 鏡頭在美國賣多少。於是我去 B&H 查了他們的價格分別是:\n",
        "\n",
        "    prices = [1096.95, 596.95, 896.95]\n",
        "    \n",
        "我又查了 Google 匯率 1 美金為 31.71 元。請把三支鏡頭的價格換算為台幣。"
      ]
    },
    {
      "cell_type": "code",
      "execution_count": null,
      "metadata": {
        "id": "iP3o-BaV0Ikm",
        "colab": {
          "base_uri": "https://localhost:8080/"
        },
        "outputId": "be9a5805-0398-499b-f288-5ab615e976af"
      },
      "outputs": [
        {
          "output_type": "stream",
          "name": "stdout",
          "text": [
            "[34784.2845, 18929.2845, 28442.2845]\n"
          ]
        }
      ],
      "source": [
        "# [方式1]: List\n",
        "usd_prices = [1096.95, 596.95, 896.95]\n",
        "usd2twd = 31.71\n",
        "twd_prices = []\n",
        "for i in range(len(usd_prices)):\n",
        "  # twd_prices[i] = prices[i]*usd2twd  # 錯誤\n",
        "  twd_prices.append(usd_prices[i]*usd2twd)\n",
        "print(twd_prices)"
      ]
    },
    {
      "cell_type": "markdown",
      "metadata": {
        "id": "V9BkLM140Ikn"
      },
      "source": [
        "先不管這實在有夠醜的數字, 我們要記得在科學計算中:\n",
        "\n",
        "### 儘可能不要使用迴圈\n",
        "\n",
        "這可能嗎?"
      ]
    },
    {
      "cell_type": "markdown",
      "metadata": {
        "id": "p4mNzXQB0Ikn"
      },
      "source": [
        "### 【示範】陣列換算匯率"
      ]
    },
    {
      "cell_type": "code",
      "execution_count": null,
      "metadata": {
        "id": "96z3SCBM0Ikn",
        "outputId": "d7f36d5a-5678-4123-ec46-9db03271bcf1",
        "colab": {
          "base_uri": "https://localhost:8080/"
        }
      },
      "outputs": [
        {
          "output_type": "execute_result",
          "data": {
            "text/plain": [
              "array([34784.2845, 18929.2845, 28442.2845])"
            ]
          },
          "metadata": {},
          "execution_count": 29
        }
      ],
      "source": [
        "# [方式2]: array\n",
        "prices = [1096.95, 596.95, 896.95]\n",
        "prices = np.array(prices)\n",
        "usd2twd = 31.71\n",
        "prices * usd2twd"
      ]
    },
    {
      "cell_type": "markdown",
      "metadata": {
        "id": "FYeTtdY40Ikn"
      },
      "source": [
        "哦哦, 傑克, 這太神奇了!"
      ]
    },
    {
      "cell_type": "markdown",
      "metadata": {
        "id": "W_shK6SK0Ikn"
      },
      "source": [
        "## 2. 其實 array 還有很多功能\n",
        "\n",
        "### 【練習】 成績計算\n",
        "\n",
        "一位老師成績這樣算的:\n",
        "\n",
        "* 平時成績 20%\n",
        "* 期中考   35%\n",
        "* 期未考   45%\n",
        "\n",
        "有位同學\n",
        "\n",
        "* 平時成績 85 分\n",
        "* 期中 70 分\n",
        "* 期末 80 分\n",
        "\n",
        "這位同學的學期成績是多少?"
      ]
    },
    {
      "cell_type": "code",
      "execution_count": null,
      "metadata": {
        "id": "4AxijkHx0Ikn"
      },
      "outputs": [],
      "source": [
        "grades = np.array([85,70,80])\n",
        "weights = np.array([0.2, 0.35, 0.45])"
      ]
    },
    {
      "cell_type": "markdown",
      "metadata": {
        "id": "vYsaGazg0Iko"
      },
      "source": [
        "這還不是我們要的最終成績啊!"
      ]
    },
    {
      "cell_type": "code",
      "execution_count": null,
      "metadata": {
        "id": "3cVr88Hp0Iko",
        "outputId": "2a8ba4f9-24f9-4a3c-fcf0-cda519827480",
        "colab": {
          "base_uri": "https://localhost:8080/"
        }
      },
      "outputs": [
        {
          "output_type": "execute_result",
          "data": {
            "text/plain": [
              "array([17. , 24.5, 36. ])"
            ]
          },
          "metadata": {},
          "execution_count": 32
        }
      ],
      "source": [
        "grades * weights"
      ]
    },
    {
      "cell_type": "markdown",
      "metadata": {
        "id": "JMe1Dbk90Iko"
      },
      "source": [
        "### 【提示】 array 還有很多函數可以用\n",
        "\n",
        "可以先打入\n",
        "\n",
        "    weighted_grades.\n",
        "    \n",
        "先不要按 `enter` 或 `shift-enter`, 而是按 `tab`...\n"
      ]
    },
    {
      "cell_type": "code",
      "execution_count": null,
      "metadata": {
        "id": "9VTX1Hrh0Iko",
        "outputId": "208f19c5-614d-465c-81e6-eea6d7b8f16d",
        "colab": {
          "base_uri": "https://localhost:8080/"
        }
      },
      "outputs": [
        {
          "output_type": "execute_result",
          "data": {
            "text/plain": [
              "77.5"
            ]
          },
          "metadata": {},
          "execution_count": 36
        }
      ],
      "source": [
        "weightedgrades = grades * weights\n",
        "weightedgrades.sum()\n",
        "# np.sum(weightedgrades)"
      ]
    },
    {
      "cell_type": "markdown",
      "metadata": {
        "id": "PXr3Z1Z80Iko"
      },
      "source": [
        "### 【技巧】 一行完成成績計算"
      ]
    },
    {
      "cell_type": "code",
      "execution_count": null,
      "metadata": {
        "id": "YLnapFp30Ikp",
        "outputId": "35de89db-59a2-4352-d354-6578754c13f9",
        "colab": {
          "base_uri": "https://localhost:8080/"
        }
      },
      "outputs": [
        {
          "output_type": "execute_result",
          "data": {
            "text/plain": [
              "77.5"
            ]
          },
          "metadata": {},
          "execution_count": 35
        }
      ],
      "source": [
        "np.dot(grades, weights)"
      ]
    },
    {
      "cell_type": "markdown",
      "metadata": {
        "id": "9AqhXPPB0Ikp"
      },
      "source": [
        "## 3. 重要的 array 大變身!\n",
        "\n",
        "我們在數據分析, 常常要改 array 的型式。"
      ]
    },
    {
      "cell_type": "markdown",
      "metadata": {
        "id": "0lN0W4zB0Ikq"
      },
      "source": [
        "### 【練習】 一個 50 個數字的 array\n",
        "\n",
        "先想辦法、用亂數做出 50 個數字的 array, 叫做 A 好了。"
      ]
    },
    {
      "cell_type": "code",
      "execution_count": null,
      "metadata": {
        "id": "avzYmull0Ikq",
        "outputId": "ca308b9f-747d-46a7-d588-c716a4c9c568",
        "colab": {
          "base_uri": "https://localhost:8080/"
        }
      },
      "outputs": [
        {
          "output_type": "execute_result",
          "data": {
            "text/plain": [
              "array([0.50934457, 0.41435621, 0.31097805, 0.8168662 , 0.31652778,\n",
              "       0.64704917, 0.14450683, 0.917212  , 0.04970045, 0.78165734,\n",
              "       0.38012045, 0.10394843, 0.10399341, 0.28008343, 0.75650969,\n",
              "       0.53761589, 0.31370612, 0.08822225, 0.25756566, 0.22121183,\n",
              "       0.87022631, 0.92752093, 0.36614769, 0.27727098, 0.43303119,\n",
              "       0.10889814, 0.29093723, 0.41756065, 0.88610931, 0.8104996 ,\n",
              "       0.50118003, 0.24574467, 0.97517466, 0.00192145, 0.71633084,\n",
              "       0.81425686, 0.77988733, 0.00621067, 0.79347629, 0.19353228,\n",
              "       0.42374232, 0.22411319, 0.05699344, 0.82345975, 0.44777896,\n",
              "       0.73758556, 0.12040636, 0.76391158, 0.63816431, 0.83144352])"
            ]
          },
          "metadata": {},
          "execution_count": 38
        }
      ],
      "source": [
        "A = np.random.rand(50)  # 0~1的數值\n",
        "A"
      ]
    },
    {
      "cell_type": "code",
      "execution_count": null,
      "metadata": {
        "id": "CV335RY10Ikr",
        "outputId": "bb6fb1e6-808a-4a74-dc0c-effc62a45282",
        "colab": {
          "base_uri": "https://localhost:8080/"
        }
      },
      "outputs": [
        {
          "output_type": "execute_result",
          "data": {
            "text/plain": [
              "0.5252104789339461"
            ]
          },
          "metadata": {},
          "execution_count": 43
        }
      ],
      "source": [
        "A[0]   # 取值(一維)"
      ]
    },
    {
      "cell_type": "markdown",
      "metadata": {
        "id": "v7zNEiys0Ikr"
      },
      "source": [
        "### 【技巧】 檢查 A 的 `shape`"
      ]
    },
    {
      "cell_type": "code",
      "execution_count": null,
      "metadata": {
        "id": "dbSSv-1U0Ikr",
        "outputId": "3df44983-2ad3-4e3b-d161-82c4bd8fb25a",
        "colab": {
          "base_uri": "https://localhost:8080/"
        }
      },
      "outputs": [
        {
          "output_type": "execute_result",
          "data": {
            "text/plain": [
              "(50,)"
            ]
          },
          "metadata": {},
          "execution_count": 44
        }
      ],
      "source": [
        "A.shape"
      ]
    },
    {
      "cell_type": "markdown",
      "metadata": {
        "id": "AAidApAP0Ikr"
      },
      "source": [
        "### 【技巧】 更改 A 的 shape[方式1]: 可以用 `shape`直接指定"
      ]
    },
    {
      "cell_type": "code",
      "execution_count": null,
      "metadata": {
        "id": "EpvHV0yK0Ikr",
        "outputId": "afad5a4a-8d1d-4d7d-d5ea-ec1199cb3ee2",
        "colab": {
          "base_uri": "https://localhost:8080/",
          "height": 203
        }
      },
      "outputs": [
        {
          "output_type": "error",
          "ename": "NameError",
          "evalue": "ignored",
          "traceback": [
            "\u001b[0;31m---------------------------------------------------------------------------\u001b[0m",
            "\u001b[0;31mNameError\u001b[0m                                 Traceback (most recent call last)",
            "\u001b[0;32m<ipython-input-37-b1ca6ac6b341>\u001b[0m in \u001b[0;36m<cell line: 1>\u001b[0;34m()\u001b[0m\n\u001b[0;32m----> 1\u001b[0;31m \u001b[0mA\u001b[0m\u001b[0;34m.\u001b[0m\u001b[0mshape\u001b[0m \u001b[0;34m=\u001b[0m \u001b[0;34m(\u001b[0m\u001b[0;36m5\u001b[0m\u001b[0;34m,\u001b[0m\u001b[0;36m10\u001b[0m\u001b[0;34m)\u001b[0m\u001b[0;34m\u001b[0m\u001b[0;34m\u001b[0m\u001b[0m\n\u001b[0m\u001b[1;32m      2\u001b[0m \u001b[0mA\u001b[0m\u001b[0;34m\u001b[0m\u001b[0;34m\u001b[0m\u001b[0m\n",
            "\u001b[0;31mNameError\u001b[0m: name 'A' is not defined"
          ]
        }
      ],
      "source": [
        "A.shape = (5,10) #或者 A.shape = (5,-1)。直接用-1來進行自動計算\n",
        "A"
      ]
    },
    {
      "cell_type": "code",
      "source": [
        "A[0,0]   # 取值(二維)"
      ],
      "metadata": {
        "colab": {
          "base_uri": "https://localhost:8080/"
        },
        "id": "PJhfvZffRW_C",
        "outputId": "70407c8f-f919-4cb9-c03e-f10f97eefcfd"
      },
      "execution_count": null,
      "outputs": [
        {
          "output_type": "execute_result",
          "data": {
            "text/plain": [
              "0.5093445725027594"
            ]
          },
          "metadata": {},
          "execution_count": 40
        }
      ]
    },
    {
      "cell_type": "markdown",
      "metadata": {
        "id": "V7hqTxp90Iks"
      },
      "source": [
        "### 【技巧】 更改 A 的 shape[方式2]: 也可以用 `reshape`\n",
        "\n",
        "但要注意, reshape 並沒有改原來的陣列。"
      ]
    },
    {
      "cell_type": "code",
      "execution_count": null,
      "metadata": {
        "id": "E6D2SbTe0Iks",
        "outputId": "c4763585-9d99-44c6-c655-b5c98061088c",
        "colab": {
          "base_uri": "https://localhost:8080/"
        }
      },
      "outputs": [
        {
          "output_type": "execute_result",
          "data": {
            "text/plain": [
              "array([[0.52521048, 0.58111004, 0.14594136, 0.07031475, 0.20354168,\n",
              "        0.33766125, 0.44659675, 0.0612143 , 0.13131733, 0.43450878],\n",
              "       [0.16467063, 0.2443377 , 0.80666616, 0.34468525, 0.18578646,\n",
              "        0.58970616, 0.56049873, 0.11094823, 0.21819229, 0.2828288 ],\n",
              "       [0.30704883, 0.85466508, 0.1810355 , 0.27536895, 0.5265338 ,\n",
              "        0.52073275, 0.5061636 , 0.70586302, 0.16362278, 0.9540507 ],\n",
              "       [0.00379306, 0.51201424, 0.07728924, 0.43472478, 0.1385118 ,\n",
              "        0.94782182, 0.49630805, 0.16009825, 0.8550533 , 0.18754727],\n",
              "       [0.13402255, 0.17287384, 0.02219845, 0.93727279, 0.45054016,\n",
              "        0.38044519, 0.22650219, 0.51582403, 0.65921605, 0.83096555]])"
            ]
          },
          "metadata": {},
          "execution_count": 50
        }
      ],
      "source": [
        "A.reshape(10,5) #或者 A.reshape(10,-1_。直接用-1來進行自動計算\n",
        "A"
      ]
    },
    {
      "cell_type": "markdown",
      "metadata": {
        "id": "AmsAbhLs0Iks"
      },
      "source": [
        "### 【技巧】 更改 A 的 shape[方式3]: 拉平 `ravel`\n",
        "\n",
        "雖然你想一想就知道可以用 `shape` 或 `reshape` 把多維陣列拉成一維。不過用 `ravel` 很潮。"
      ]
    },
    {
      "cell_type": "code",
      "execution_count": null,
      "metadata": {
        "id": "k_-aYzGQ0Iks",
        "outputId": "d48abd4d-b3c3-4f72-b0ed-db0186f75085",
        "colab": {
          "base_uri": "https://localhost:8080/"
        }
      },
      "outputs": [
        {
          "output_type": "execute_result",
          "data": {
            "text/plain": [
              "array([0.52521048, 0.58111004, 0.14594136, 0.07031475, 0.20354168,\n",
              "       0.33766125, 0.44659675, 0.0612143 , 0.13131733, 0.43450878,\n",
              "       0.16467063, 0.2443377 , 0.80666616, 0.34468525, 0.18578646,\n",
              "       0.58970616, 0.56049873, 0.11094823, 0.21819229, 0.2828288 ,\n",
              "       0.30704883, 0.85466508, 0.1810355 , 0.27536895, 0.5265338 ,\n",
              "       0.52073275, 0.5061636 , 0.70586302, 0.16362278, 0.9540507 ,\n",
              "       0.00379306, 0.51201424, 0.07728924, 0.43472478, 0.1385118 ,\n",
              "       0.94782182, 0.49630805, 0.16009825, 0.8550533 , 0.18754727,\n",
              "       0.13402255, 0.17287384, 0.02219845, 0.93727279, 0.45054016,\n",
              "       0.38044519, 0.22650219, 0.51582403, 0.65921605, 0.83096555])"
            ]
          },
          "metadata": {},
          "execution_count": 51
        }
      ],
      "source": [
        "A.ravel() # 或者使用A.flatten()"
      ]
    },
    {
      "cell_type": "code",
      "source": [
        "A.flatten()"
      ],
      "metadata": {
        "colab": {
          "base_uri": "https://localhost:8080/"
        },
        "id": "Sl6LTdHfoTxV",
        "outputId": "6ca492e9-3983-4edd-fb50-2249282a7a8d"
      },
      "execution_count": null,
      "outputs": [
        {
          "output_type": "execute_result",
          "data": {
            "text/plain": [
              "array([0.50934457, 0.41435621, 0.31097805, 0.8168662 , 0.31652778,\n",
              "       0.64704917, 0.14450683, 0.917212  , 0.04970045, 0.78165734,\n",
              "       0.38012045, 0.10394843, 0.10399341, 0.28008343, 0.75650969,\n",
              "       0.53761589, 0.31370612, 0.08822225, 0.25756566, 0.22121183,\n",
              "       0.87022631, 0.92752093, 0.36614769, 0.27727098, 0.43303119,\n",
              "       0.10889814, 0.29093723, 0.41756065, 0.88610931, 0.8104996 ,\n",
              "       0.50118003, 0.24574467, 0.97517466, 0.00192145, 0.71633084,\n",
              "       0.81425686, 0.77988733, 0.00621067, 0.79347629, 0.19353228,\n",
              "       0.42374232, 0.22411319, 0.05699344, 0.82345975, 0.44777896,\n",
              "       0.73758556, 0.12040636, 0.76391158, 0.63816431, 0.83144352])"
            ]
          },
          "metadata": {},
          "execution_count": 42
        }
      ]
    },
    {
      "cell_type": "markdown",
      "metadata": {
        "id": "SIo4xgtz0Iks"
      },
      "source": [
        "## 4. 快速 array 生成法"
      ]
    },
    {
      "cell_type": "markdown",
      "metadata": {
        "id": "lGOFnUW40Iks"
      },
      "source": [
        "### 【技巧】 都是 0 的 array"
      ]
    },
    {
      "cell_type": "code",
      "execution_count": null,
      "metadata": {
        "id": "FklOgM-g0Ikw",
        "outputId": "eadd1e4e-4e91-4da6-966d-a3ed94d66928",
        "colab": {
          "base_uri": "https://localhost:8080/"
        }
      },
      "outputs": [
        {
          "output_type": "execute_result",
          "data": {
            "text/plain": [
              "array([[0., 0., 0., 0.],\n",
              "       [0., 0., 0., 0.],\n",
              "       [0., 0., 0., 0.]])"
            ]
          },
          "metadata": {},
          "execution_count": 55
        }
      ],
      "source": [
        "np.zeros(10)\n",
        "np.zeros((512,512))  #或者 np.zeros([512,512]) #影像處理中常常會使用到512"
      ]
    },
    {
      "cell_type": "markdown",
      "metadata": {
        "id": "rITLeOi90Ikx"
      },
      "source": [
        "### 【技巧】 都是 1 的 array"
      ]
    },
    {
      "cell_type": "code",
      "execution_count": null,
      "metadata": {
        "id": "tE1YP1x20Ikx",
        "outputId": "09697e40-6cd2-42c3-c172-56fa012945a9",
        "colab": {
          "base_uri": "https://localhost:8080/"
        }
      },
      "outputs": [
        {
          "output_type": "execute_result",
          "data": {
            "text/plain": [
              "array([1., 1., 1., 1., 1., 1., 1., 1., 1., 1.])"
            ]
          },
          "metadata": {},
          "execution_count": 53
        }
      ],
      "source": [
        "np.ones(10)"
      ]
    },
    {
      "cell_type": "markdown",
      "metadata": {
        "id": "NsVrcZEE0Ikx"
      },
      "source": [
        "### 【技巧】單位矩陣"
      ]
    },
    {
      "cell_type": "code",
      "execution_count": null,
      "metadata": {
        "id": "NGKrPKk20Ikx",
        "outputId": "bd8ece61-b002-4c7a-a0f6-99e04cff4e5a",
        "colab": {
          "base_uri": "https://localhost:8080/"
        }
      },
      "outputs": [
        {
          "output_type": "execute_result",
          "data": {
            "text/plain": [
              "array([[1., 0., 0., 0., 0.],\n",
              "       [0., 1., 0., 0., 0.],\n",
              "       [0., 0., 1., 0., 0.],\n",
              "       [0., 0., 0., 1., 0.],\n",
              "       [0., 0., 0., 0., 1.]])"
            ]
          },
          "metadata": {},
          "execution_count": 56
        }
      ],
      "source": [
        "np.eye(5)"
      ]
    },
    {
      "cell_type": "markdown",
      "metadata": {
        "id": "VyXAgqIH0Ikx"
      },
      "source": [
        "### 【技巧】給定範圍均勻生出 n 個點"
      ]
    },
    {
      "cell_type": "code",
      "execution_count": null,
      "metadata": {
        "id": "OUIaJb_40Ikx",
        "outputId": "e9b6a169-f0d6-451c-82e4-93353394d4ac",
        "colab": {
          "base_uri": "https://localhost:8080/"
        }
      },
      "outputs": [
        {
          "output_type": "stream",
          "name": "stdout",
          "text": [
            "[ 0.          0.1010101   0.2020202   0.3030303   0.4040404   0.50505051\n",
            "  0.60606061  0.70707071  0.80808081  0.90909091  1.01010101  1.11111111\n",
            "  1.21212121  1.31313131  1.41414141  1.51515152  1.61616162  1.71717172\n",
            "  1.81818182  1.91919192  2.02020202  2.12121212  2.22222222  2.32323232\n",
            "  2.42424242  2.52525253  2.62626263  2.72727273  2.82828283  2.92929293\n",
            "  3.03030303  3.13131313  3.23232323  3.33333333  3.43434343  3.53535354\n",
            "  3.63636364  3.73737374  3.83838384  3.93939394  4.04040404  4.14141414\n",
            "  4.24242424  4.34343434  4.44444444  4.54545455  4.64646465  4.74747475\n",
            "  4.84848485  4.94949495  5.05050505  5.15151515  5.25252525  5.35353535\n",
            "  5.45454545  5.55555556  5.65656566  5.75757576  5.85858586  5.95959596\n",
            "  6.06060606  6.16161616  6.26262626  6.36363636  6.46464646  6.56565657\n",
            "  6.66666667  6.76767677  6.86868687  6.96969697  7.07070707  7.17171717\n",
            "  7.27272727  7.37373737  7.47474747  7.57575758  7.67676768  7.77777778\n",
            "  7.87878788  7.97979798  8.08080808  8.18181818  8.28282828  8.38383838\n",
            "  8.48484848  8.58585859  8.68686869  8.78787879  8.88888889  8.98989899\n",
            "  9.09090909  9.19191919  9.29292929  9.39393939  9.49494949  9.5959596\n",
            "  9.6969697   9.7979798   9.8989899  10.        ]\n",
            "[0.  0.1 0.2 0.3 0.4 0.5 0.6 0.7 0.8 0.9 1.  1.1 1.2 1.3 1.4 1.5 1.6 1.7\n",
            " 1.8 1.9 2.  2.1 2.2 2.3 2.4 2.5 2.6 2.7 2.8 2.9 3.  3.1 3.2 3.3 3.4 3.5\n",
            " 3.6 3.7 3.8 3.9 4.  4.1 4.2 4.3 4.4 4.5 4.6 4.7 4.8 4.9 5.  5.1 5.2 5.3\n",
            " 5.4 5.5 5.6 5.7 5.8 5.9 6.  6.1 6.2 6.3 6.4 6.5 6.6 6.7 6.8 6.9 7.  7.1\n",
            " 7.2 7.3 7.4 7.5 7.6 7.7 7.8 7.9 8.  8.1 8.2 8.3 8.4 8.5 8.6 8.7 8.8 8.9\n",
            " 9.  9.1 9.2 9.3 9.4 9.5 9.6 9.7 9.8 9.9]\n"
          ]
        }
      ],
      "source": [
        "x = np.linspace(0, 10, 100)  #0~10，生成100個  # 包含10\n",
        "y = np.arange(0,10, (10-0)/100)          # 未包含10\n",
        "print(x)\n",
        "print(y)"
      ]
    },
    {
      "cell_type": "markdown",
      "metadata": {
        "id": "f4sQQfG_0Iky"
      },
      "source": [
        "### 【技巧】`range` 的 array 版\n",
        "\n",
        "就是 `arange`。"
      ]
    },
    {
      "cell_type": "code",
      "execution_count": null,
      "metadata": {
        "id": "Qyci6zPW0Iky",
        "outputId": "d180314e-f4de-4bf0-d89d-5680696fd823",
        "colab": {
          "base_uri": "https://localhost:8080/"
        }
      },
      "outputs": [
        {
          "output_type": "execute_result",
          "data": {
            "text/plain": [
              "array([1. , 1.2, 1.4, 1.6, 1.8, 2. , 2.2, 2.4, 2.6, 2.8, 3. , 3.2, 3.4,\n",
              "       3.6, 3.8, 4. , 4.2, 4.4, 4.6, 4.8, 5. , 5.2, 5.4, 5.6, 5.8, 6. ,\n",
              "       6.2, 6.4, 6.6, 6.8, 7. , 7.2, 7.4, 7.6, 7.8, 8. , 8.2, 8.4, 8.6,\n",
              "       8.8, 9. , 9.2, 9.4, 9.6, 9.8])"
            ]
          },
          "metadata": {},
          "execution_count": 59
        }
      ],
      "source": [
        "np.arange(1, 10, 0.2)  #功能與range一樣"
      ]
    },
    {
      "cell_type": "markdown",
      "metadata": {
        "id": "awwA_gJe0Iky"
      },
      "source": [
        "## 5. 超重要 `axis` 觀念\n",
        "\n",
        "初學 `numpy` 很多人有點弄不清楚 `axis` 概念。其實掌握矩陣, 或很像矩陣的陣列都是「先列(row)，後行(column)」就可以!\n",
        "\n",
        "我們先弄個 array 來練習。"
      ]
    },
    {
      "cell_type": "code",
      "execution_count": null,
      "metadata": {
        "id": "WASGtGaC0Iky",
        "outputId": "d6d5b036-d931-44b4-eaf7-610d663f52a5",
        "colab": {
          "base_uri": "https://localhost:8080/"
        }
      },
      "outputs": [
        {
          "output_type": "execute_result",
          "data": {
            "text/plain": [
              "array([[0, 1, 2, 3, 4],\n",
              "       [5, 6, 7, 8, 9]])"
            ]
          },
          "metadata": {},
          "execution_count": 61
        }
      ],
      "source": [
        "A = np.arange(10).reshape(2,5)\n",
        "A"
      ]
    },
    {
      "cell_type": "markdown",
      "metadata": {
        "id": "0cT5yyD90Iky"
      },
      "source": [
        "### 【重點】 一列一列算下來是 `axis=0`"
      ]
    },
    {
      "cell_type": "markdown",
      "metadata": {
        "id": "cxDFIp6S0Iky"
      },
      "source": [
        "![axis=0](images/axis0.png)"
      ]
    },
    {
      "cell_type": "code",
      "execution_count": null,
      "metadata": {
        "id": "sZpEJW4W0Iky",
        "outputId": "b9779bf4-2897-4ada-da91-e4ea0be3e552",
        "colab": {
          "base_uri": "https://localhost:8080/"
        }
      },
      "outputs": [
        {
          "output_type": "execute_result",
          "data": {
            "text/plain": [
              "array([ 5,  7,  9, 11, 13])"
            ]
          },
          "metadata": {},
          "execution_count": 62
        }
      ],
      "source": [
        "A.sum(axis=0)"
      ]
    },
    {
      "cell_type": "markdown",
      "metadata": {
        "id": "KJiECS-r0Ikz"
      },
      "source": [
        "### 【重點】 一行一行算過去是 `axis=1`\n",
        "\n",
        "![axis=1](images/axis1.png)"
      ]
    },
    {
      "cell_type": "code",
      "execution_count": null,
      "metadata": {
        "id": "_kfFQK1P0Ikz",
        "outputId": "a3247943-9eed-48dc-d3ce-04a7ad7730c5",
        "colab": {
          "base_uri": "https://localhost:8080/"
        }
      },
      "outputs": [
        {
          "output_type": "execute_result",
          "data": {
            "text/plain": [
              "array([10, 35])"
            ]
          },
          "metadata": {},
          "execution_count": 63
        }
      ],
      "source": [
        "A.sum(axis=1)"
      ]
    },
    {
      "cell_type": "markdown",
      "metadata": {
        "id": "9LlqS64t0Ikz"
      },
      "source": [
        "### 【提示】當然也有可能全部算"
      ]
    },
    {
      "cell_type": "code",
      "execution_count": null,
      "metadata": {
        "id": "uGJdW1Cn0Ikz",
        "outputId": "2a842436-6720-400b-e965-aa87840dfc26"
      },
      "outputs": [
        {
          "data": {
            "text/plain": [
              "45"
            ]
          },
          "execution_count": 54,
          "metadata": {},
          "output_type": "execute_result"
        }
      ],
      "source": [
        "A.sum()"
      ]
    },
    {
      "cell_type": "markdown",
      "metadata": {
        "id": "bcEZLrj40Ikz"
      },
      "source": [
        "## 6. array 過濾器\n",
        "\n",
        "篩出我們要的資料, 這樣的技巧非常重要!"
      ]
    },
    {
      "cell_type": "markdown",
      "metadata": {
        "id": "DWS-YU3n0Ikz"
      },
      "source": [
        "### 【例子】篩出大於 0 的數\n",
        "\n",
        "我們有個陣列, 想找出大於 0 的數。<br>\n",
        "L = np.array([3, -2, -1, 5, 7, -3])"
      ]
    },
    {
      "cell_type": "code",
      "execution_count": null,
      "metadata": {
        "id": "uyNhW0GA0Ikz"
      },
      "outputs": [],
      "source": [
        "L = np.array([3, -2, -1, 5, 7, -3])"
      ]
    },
    {
      "cell_type": "markdown",
      "metadata": {
        "id": "LRqb2e8U0Ik0"
      },
      "source": [
        "我們可以很白痴的自己判斷...<br>\n",
        "c = np.array([True,False,False,True,True,False])"
      ]
    },
    {
      "cell_type": "code",
      "execution_count": null,
      "metadata": {
        "id": "tG7xIfSv0Ik0"
      },
      "outputs": [],
      "source": [
        "c = np.array([True,False,False,True,True,False])"
      ]
    },
    {
      "cell_type": "markdown",
      "metadata": {
        "id": "TfO6_1IX0Ik0"
      },
      "source": [
        "這是做啥呢? 我們可以瞬間..."
      ]
    },
    {
      "cell_type": "code",
      "execution_count": null,
      "metadata": {
        "id": "Ywf23CEy0Ik0",
        "outputId": "98212ff2-1d6b-4017-9b81-9e758494e507",
        "colab": {
          "base_uri": "https://localhost:8080/"
        }
      },
      "outputs": [
        {
          "output_type": "execute_result",
          "data": {
            "text/plain": [
              "array([3, 5, 7])"
            ]
          },
          "metadata": {},
          "execution_count": 71
        }
      ],
      "source": [
        "L[c]"
      ]
    },
    {
      "cell_type": "markdown",
      "metadata": {
        "id": "5_nLrC7v0Ik0"
      },
      "source": [
        "除了自己做很白痴, 這看來很厲害!"
      ]
    },
    {
      "cell_type": "markdown",
      "metadata": {
        "id": "lKBzjgrD0Ik0"
      },
      "source": [
        "事實上我們可以叫 `numpy` 做!"
      ]
    },
    {
      "cell_type": "code",
      "execution_count": null,
      "metadata": {
        "id": "PqKfX4HJ0Ik0",
        "outputId": "1cc3bde4-d348-4494-8ed9-eb229d20af90",
        "colab": {
          "base_uri": "https://localhost:8080/"
        }
      },
      "outputs": [
        {
          "output_type": "execute_result",
          "data": {
            "text/plain": [
              "array([ True, False, False,  True,  True, False])"
            ]
          },
          "metadata": {},
          "execution_count": 72
        }
      ],
      "source": [
        "L>0"
      ]
    },
    {
      "cell_type": "markdown",
      "metadata": {
        "id": "7N6uHHUA0Ik1"
      },
      "source": [
        "這有點強, 我們還可以一次到位!"
      ]
    },
    {
      "cell_type": "code",
      "execution_count": null,
      "metadata": {
        "scrolled": true,
        "id": "nORTz2D80Ik1",
        "outputId": "5af4ba2a-c1cc-4ffc-df96-7dbb02603fbb"
      },
      "outputs": [
        {
          "data": {
            "text/plain": [
              "array([3, 5, 7])"
            ]
          },
          "execution_count": 64,
          "metadata": {},
          "output_type": "execute_result"
        }
      ],
      "source": [
        "L[L>0] # 這樣不會更改到L"
      ]
    },
    {
      "cell_type": "markdown",
      "metadata": {
        "id": "UvidZlvQ0Ik1"
      },
      "source": [
        "## 7. 次元切割刀\n",
        "\n",
        "`numpy` 中 array 的切割法和 list 很像。"
      ]
    },
    {
      "cell_type": "code",
      "execution_count": null,
      "metadata": {
        "id": "vzv3pou80Ik1",
        "outputId": "16f5e315-7a1b-468d-da3b-c85f31e22429",
        "colab": {
          "base_uri": "https://localhost:8080/"
        }
      },
      "outputs": [
        {
          "output_type": "execute_result",
          "data": {
            "text/plain": [
              "array([0, 1, 2, 3, 4, 5, 6, 7, 8, 9])"
            ]
          },
          "metadata": {},
          "execution_count": 78
        }
      ],
      "source": [
        "x = np.arange(10)\n",
        "x"
      ]
    },
    {
      "cell_type": "code",
      "execution_count": null,
      "metadata": {
        "id": "d13H8NN30Ik1",
        "outputId": "ace033a2-b3f9-43cc-b989-c0403958b998",
        "colab": {
          "base_uri": "https://localhost:8080/"
        }
      },
      "outputs": [
        {
          "output_type": "execute_result",
          "data": {
            "text/plain": [
              "array([3, 4, 5, 6])"
            ]
          },
          "metadata": {},
          "execution_count": 76
        }
      ],
      "source": [
        "x[3:7]"
      ]
    },
    {
      "cell_type": "markdown",
      "metadata": {
        "id": "0kwkwyBB0Ik1"
      },
      "source": [
        "### 【技巧】2維陣列切法\n",
        "\n",
        "記得先列後行!"
      ]
    },
    {
      "cell_type": "code",
      "execution_count": null,
      "metadata": {
        "id": "uswj6_ff0Ik1",
        "outputId": "4cfe9f83-3ca0-40b3-fc20-9602c39c603d",
        "colab": {
          "base_uri": "https://localhost:8080/"
        }
      },
      "outputs": [
        {
          "output_type": "execute_result",
          "data": {
            "text/plain": [
              "array([[0, 1, 2, 3, 4],\n",
              "       [5, 6, 7, 8, 9]])"
            ]
          },
          "metadata": {},
          "execution_count": 82
        }
      ],
      "source": [
        "# x.reshape(2,5)\n",
        "# x\n",
        "x = x.reshape(2,5)\n",
        "x"
      ]
    },
    {
      "cell_type": "markdown",
      "metadata": {
        "id": "UX46k4SN0Ik2"
      },
      "source": [
        "要所有的row, 切出行 1-3 位置。"
      ]
    },
    {
      "cell_type": "code",
      "execution_count": null,
      "metadata": {
        "id": "jGmJApBv0Ik2",
        "outputId": "2ed59397-f0d0-43c1-d0eb-4bafbed490d1",
        "colab": {
          "base_uri": "https://localhost:8080/"
        }
      },
      "outputs": [
        {
          "output_type": "execute_result",
          "data": {
            "text/plain": [
              "array([[1, 2],\n",
              "       [6, 7]])"
            ]
          },
          "metadata": {},
          "execution_count": 83
        }
      ],
      "source": [
        "x[:,1:3]"
      ]
    },
    {
      "cell_type": "markdown",
      "metadata": {
        "id": "VXv7_6b40Ik2"
      },
      "source": [
        "要所有的行col, 切出第 1 列row!"
      ]
    },
    {
      "cell_type": "code",
      "execution_count": null,
      "metadata": {
        "id": "c1-VTS_L0Ik2",
        "outputId": "f00932d1-0526-4a50-c07f-7bd6fe80f579",
        "colab": {
          "base_uri": "https://localhost:8080/"
        }
      },
      "outputs": [
        {
          "output_type": "execute_result",
          "data": {
            "text/plain": [
              "array([5, 6, 7, 8, 9])"
            ]
          },
          "metadata": {},
          "execution_count": 84
        }
      ],
      "source": [
        "x[1,:]"
      ]
    },
    {
      "cell_type": "markdown",
      "metadata": {
        "id": "n84nyeat0Ik2"
      },
      "source": [
        "## 8. `NumPy` 的 `zip` 和 `unzip`"
      ]
    },
    {
      "cell_type": "markdown",
      "metadata": {
        "id": "5NzJC92K0Ik2"
      },
      "source": [
        "之前我們介紹 list 可以用 `zip` 和 `unzip` (其實還是 `zip`) 做到的資料格式變換, 在 array 中怎麼做呢?\n",
        "\n",
        "![zip and unzip](images/zip.png)"
      ]
    },
    {
      "cell_type": "markdown",
      "metadata": {
        "id": "Hwom4hdj0Ik2"
      },
      "source": [
        "### 【重點】array 的 `zip`\n",
        "\n",
        "![array zip](images/arrzip.png)"
      ]
    },
    {
      "cell_type": "code",
      "execution_count": null,
      "metadata": {
        "id": "waTK3UfB0Ik3"
      },
      "outputs": [],
      "source": [
        "x = np.array([1,2,3,4])\n",
        "y = np.array([5,6,7,8])"
      ]
    },
    {
      "cell_type": "code",
      "execution_count": null,
      "metadata": {
        "id": "aPNsvhTS0Ik3",
        "outputId": "30d4af28-bc68-4466-80f0-40057816d8f0",
        "colab": {
          "base_uri": "https://localhost:8080/"
        }
      },
      "outputs": [
        {
          "output_type": "execute_result",
          "data": {
            "text/plain": [
              "array([[1, 5],\n",
              "       [2, 6],\n",
              "       [3, 7],\n",
              "       [4, 8]])"
            ]
          },
          "metadata": {},
          "execution_count": 86
        }
      ],
      "source": [
        "X = np.c_[x,y]\n",
        "X"
      ]
    },
    {
      "cell_type": "code",
      "execution_count": null,
      "metadata": {
        "id": "UI-j5Zy70Ik3",
        "outputId": "f91eca94-1166-4514-937a-f9098ecbd6d0",
        "colab": {
          "base_uri": "https://localhost:8080/"
        }
      },
      "outputs": [
        {
          "output_type": "execute_result",
          "data": {
            "text/plain": [
              "array([1, 2, 3, 4, 5, 6, 7, 8])"
            ]
          },
          "metadata": {},
          "execution_count": 88
        }
      ],
      "source": [
        "Y = np.r_[x,y]\n",
        "Y"
      ]
    },
    {
      "cell_type": "markdown",
      "source": [
        "### 【自己補充】array 的 `zip`\n",
        "https://www.delftstack.com/zh-tw/howto/numpy/python-numpy-zip/"
      ],
      "metadata": {
        "id": "gNt7Aiuyq9SF"
      }
    },
    {
      "cell_type": "code",
      "source": [
        "x = np.array([1,2,3,4])\n",
        "y = np.array([5,6,7,8])\n",
        "\n",
        "# <方式1>: 這種方法效率不高，因為我們必須在陣列和列表之間進行轉換。\n",
        "way1 = np.array(list(zip(x,y)))\n",
        "print(way1)\n",
        "\n",
        "# <方式2>: 使用 numpy.stack() 函式的 NumPy Zip\n",
        "way2 = np.stack([x,y], axis=1)\n",
        "print(way2)\n",
        "\n",
        "# <方式3>: 使用 numpy.column_stack() 函式的 NumPy Zip\n",
        "# numpy.column_stack() 函式用於將兩個或多個一維陣列作為列連線到單個二維陣列中。我們不必為此方法指定任何軸引數\n",
        "way3 = np.column_stack([x,y])\n",
        "print(way3)\n"
      ],
      "metadata": {
        "colab": {
          "base_uri": "https://localhost:8080/"
        },
        "id": "pz8n8U4Iq62p",
        "outputId": "3a43ee74-1773-467b-ff4b-118d5c998e0f"
      },
      "execution_count": null,
      "outputs": [
        {
          "output_type": "stream",
          "name": "stdout",
          "text": [
            "[[1 5]\n",
            " [2 6]\n",
            " [3 7]\n",
            " [4 8]]\n",
            "[[1 5]\n",
            " [2 6]\n",
            " [3 7]\n",
            " [4 8]]\n",
            "[[1 5]\n",
            " [2 6]\n",
            " [3 7]\n",
            " [4 8]]\n"
          ]
        }
      ]
    },
    {
      "cell_type": "markdown",
      "metadata": {
        "id": "T4a0fbIN0Ik3"
      },
      "source": [
        "### 【重點】array 的 `unzip`\n",
        "\n",
        "這裡其實只需要用到 array 的切割法...\n",
        "\n",
        "![array zip](images/arrunzip.png)"
      ]
    },
    {
      "cell_type": "code",
      "execution_count": null,
      "metadata": {
        "collapsed": true,
        "id": "RTCeD4-M0Ik3",
        "colab": {
          "base_uri": "https://localhost:8080/"
        },
        "outputId": "dd690cf8-63ef-4c48-c67a-bf028c5785e1"
      },
      "outputs": [
        {
          "output_type": "execute_result",
          "data": {
            "text/plain": [
              "array([1, 2, 3, 4])"
            ]
          },
          "metadata": {},
          "execution_count": 93
        }
      ],
      "source": [
        "X[:,0]"
      ]
    },
    {
      "cell_type": "code",
      "source": [
        "X[:,1]"
      ],
      "metadata": {
        "colab": {
          "base_uri": "https://localhost:8080/"
        },
        "id": "v_0LC5LJXNa0",
        "outputId": "e810d62f-80da-4b15-cf7b-b90afe005e9a"
      },
      "execution_count": null,
      "outputs": [
        {
          "output_type": "execute_result",
          "data": {
            "text/plain": [
              "array([5, 6, 7, 8])"
            ]
          },
          "metadata": {},
          "execution_count": 92
        }
      ]
    }
  ],
  "metadata": {
    "kernelspec": {
      "display_name": "Python 3",
      "language": "python",
      "name": "python3"
    },
    "language_info": {
      "codemirror_mode": {
        "name": "ipython",
        "version": 3
      },
      "file_extension": ".py",
      "mimetype": "text/x-python",
      "name": "python",
      "nbconvert_exporter": "python",
      "pygments_lexer": "ipython3",
      "version": "3.8.8"
    },
    "colab": {
      "provenance": []
    }
  },
  "nbformat": 4,
  "nbformat_minor": 0
}